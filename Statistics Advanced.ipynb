{
 "cells": [
  {
   "cell_type": "markdown",
   "id": "c9533278-dc1f-434f-ac2f-53fa32be8323",
   "metadata": {},
   "source": [
    "#Question 1: What is a random variable in probability theory? "
   ]
  },
  {
   "cell_type": "markdown",
   "id": "04635708-a7c6-4337-bfbf-f12820c90e54",
   "metadata": {},
   "source": [
    "#In probability theory, a random variable is a numerical description of the outcome of a random experiment. Essentially, it is a function that maps the non-numerical or qualitative outcomes of a random process to real numbers, making them easier to analyze mathematically."
   ]
  },
  {
   "cell_type": "markdown",
   "id": "f661c11e-6769-44ca-80d2-ef18eb3ff70b",
   "metadata": {},
   "source": [
    "#Question 2: What are the types of random variables? "
   ]
  },
  {
   "cell_type": "markdown",
   "id": "4fd916bf-6b8e-49c9-9363-0563c3cfa65d",
   "metadata": {},
   "source": [
    "#random variables are classified into two main types: discrete and continuous."
   ]
  },
  {
   "cell_type": "markdown",
   "id": "9f4c1577-c787-4d29-86a7-3fb08ecc9d98",
   "metadata": {},
   "source": [
    "#Question 3: Explain the difference between discrete and continuous distributions. "
   ]
  },
  {
   "cell_type": "markdown",
   "id": "a71731bd-502f-4bdd-b3e1-2ff8284a14a9",
   "metadata": {},
   "source": [
    "#Discrete probability distributions\n",
    "#Discrete probability distributions model random variables that can only take on a finite or countable number of distinct values, often whole numbers."
   ]
  },
  {
   "cell_type": "code",
   "execution_count": 1,
   "id": "38d9cb80-3b1b-4473-9e49-30ed260fa5fd",
   "metadata": {},
   "outputs": [],
   "source": [
    "#Continuous probability distributions\n",
    "#Continuous probability distributions model random variables that can take on any value within a given, uncountable range or interval"
   ]
  },
  {
   "cell_type": "markdown",
   "id": "b40d19e4-47b3-438a-a3b3-95ae65d947ad",
   "metadata": {},
   "source": [
    "#Question 4: What is a binomial distribution, and how is it used in probability? "
   ]
  },
  {
   "cell_type": "markdown",
   "id": "ad297936-1718-420a-81b6-bbfa3be02c17",
   "metadata": {},
   "source": [
    "#A binomial distribution is a discrete probability distribution that models the number of successes in a fixed number of independent trials. Each trial has only two possible outcomes, conventionally termed \"success\" or \"failure,\" and the probability of success remains constant for every trial."
   ]
  },
  {
   "cell_type": "markdown",
   "id": "daeb6657-b257-43b1-9bf1-a346117cbaff",
   "metadata": {},
   "source": [
    "#Question 5: What is the standard normal distribution, and why is it important? "
   ]
  },
  {
   "cell_type": "markdown",
   "id": "8a46f7e3-512c-4739-8d22-d75fd43e8142",
   "metadata": {},
   "source": [
    "#This distribution forms a symmetrical, bell-shaped curve that is centered at zero. All normal distributions can be converted into a standard normal distribution using a process called standardization"
   ]
  },
  {
   "cell_type": "markdown",
   "id": "225f2e52-b35a-4cbf-9422-425bd038e78c",
   "metadata": {},
   "source": [
    "#Why is it important?\n",
    "The standard normal distribution is an essential tool in statistics because it allows for direct comparisons and calculations across different datasets. "
   ]
  },
  {
   "cell_type": "markdown",
   "id": "bfe12d8e-626f-480c-aa20-e411c85514cd",
   "metadata": {},
   "source": [
    "#Question 6: What is the Central Limit Theorem (CLT), and why is it critical in statistics? "
   ]
  },
  {
   "cell_type": "markdown",
   "id": "77a08bc9-ff89-4dff-8db8-13af5b38a84d",
   "metadata": {},
   "source": [
    "#The Central Limit Theorem (CLT) is a cornerstone of statistics that states that the sampling distribution of the sample mean will be approximately normally distributed, regardless of the population's original distribution, as long as the sample size is sufficiently large. This theorem is critical because it justifies the use of normal distribution-based statistical methods for a wide array of data types."
   ]
  },
  {
   "cell_type": "code",
   "execution_count": 2,
   "id": "02ce08c3-76dd-4a0e-bd81-951b6ff5ab53",
   "metadata": {},
   "outputs": [],
   "source": [
    "#Question 7: What is the significance of confidence intervals in statistical analysis? "
   ]
  },
  {
   "cell_type": "markdown",
   "id": "2899c294-8729-4dad-a7ad-a31ed7e358d9",
   "metadata": {},
   "source": [
    "#A confidence interval is a range of values, derived from sample data, that is likely to contain the true value of an unknown population parameter. It is a critical component of statistical analysis because it moves beyond a single point estimate to express the precision and uncertainty of that estimate."
   ]
  },
  {
   "cell_type": "markdown",
   "id": "3f606ee0-1d91-4559-9a99-aa9fdf68bdf3",
   "metadata": {},
   "source": [
    "#Question 8: What is the concept of expected value in a probability distribution?"
   ]
  },
  {
   "cell_type": "markdown",
   "id": "6d4a86a6-8e29-4fc6-b57f-60e898c6f3e5",
   "metadata": {},
   "source": [
    "#The expected value of a probability distribution is the weighted average of all possible values that a random variable can take. It represents the long-term average outcome of a random experiment if it were repeated numerous times. Often denoted as \\(E(X)\\) or \\(\\mu \\), the expected value is a crucial measure of central tendency."
   ]
  },
  {
   "cell_type": "markdown",
   "id": "2373abb6-6dc3-4c77-ba8b-dead335bca41",
   "metadata": {},
   "source": [
    "#Question 9: Write a Python program to generate 1000 random numbers from a normal distribution with mean = 50 and standard deviation = 5. Compute its mean and standard deviation using NumPy, and draw a histogram to visualize the distribution. "
   ]
  },
  {
   "cell_type": "code",
   "execution_count": 5,
   "id": "a4a64aac-12b4-4401-83ab-11698544939f",
   "metadata": {},
   "outputs": [],
   "source": [
    "import numpy as np\n",
    "import matplotlib.pyplot as plt\n",
    "import pandas as pd \n",
    "import seaborn as sns\n",
    "\n",
    "import warnings\n",
    "warnings.filterwarnings('ignore')\n",
    "\n",
    "\n",
    "\n"
   ]
  },
  {
   "cell_type": "code",
   "execution_count": 6,
   "id": "18a4835b-88fe-4120-b712-b0911682afd9",
   "metadata": {},
   "outputs": [
    {
     "data": {
      "image/png": "[encoded data removed]",
      "text/plain": [
       "<Figure size 640x480 with 1 Axes>"
      ]
     },
     "metadata": {},
     "output_type": "display_data"
    }
   ],
   "source": [
    "mean = 50\n",
    "std_dev = 5\n",
    "num_samples = 1000\n",
    "data = np.random.normal(loc=mean, scale=std_dev, size=num_samples)\n",
    "\n",
    "\n",
    "computed_mean = np.mean(data)\n",
    "computed_std = np.std(data)\n",
    "\n",
    "\n",
    "plt.hist(data, bins=30, edgecolor='black', alpha=0.7)\n",
    "plt.title('Histogram of 1000 Random Numbers from a Normal Distribution')\n",
    "plt.xlabel('Value')\n",
    "plt.ylabel('Frequency')\n",
    "plt.grid(True)\n",
    "plt.show()"
   ]
  },
  {
   "cell_type": "markdown",
   "id": "e3f6daa0-b2ac-4b0f-938e-cbf374d1a244",
   "metadata": {},
   "source": [
    "#Question 10: You are working as a data analyst for a retail company. The company has collected daily sales data for 2 years and wants you to identify the overall sales trend. daily_sales = [220, 245, 210, 265, 230, 250, 260, 275, 240, 255, 235, 260, 245, 250, 225, 270, 265, 255, 250, 260] ● Explain how you would apply the Central Limit Theorem to estimate the average sales with a 95% confidence interval. ● Write the Python code to compute the mean sales and its confidence interval. "
   ]
  },
  {
   "cell_type": "markdown",
   "id": "ab64a4dd-ed3e-4dfb-823a-d1aa0d24c23d",
   "metadata": {},
   "source": [
    "#As a data analyst, I would apply the CLT to this task for two key reasons:\n",
    " #analyzing a large number of data points (730 days over 2 years).\n",
    "#my goal is to estimate the true population mean (the company's average daily sales) from this sample data.\n",
    "\n",
    "#Identify the Population and Sample\n",
    "#Apply the Central Limit Theorem\n",
    "#Calculate the Sample Statistics\n",
    "#Determine the Standard Error\n",
    "#Choose the Confidence Level\n",
    "                                                 "
   ]
  },
  {
   "cell_type": "code",
   "execution_count": 10,
   "id": "3338bc31-7d6c-4709-a270-c89189258dc6",
   "metadata": {},
   "outputs": [
    {
     "name": "stdout",
     "output_type": "stream",
     "text": [
      "Requirement already satisfied: scipy in c:\\users\\lakha\\appdata\\local\\programs\\python\\python313\\lib\\site-packages (1.16.1)\n",
      "Requirement already satisfied: numpy<2.6,>=1.25.2 in c:\\users\\lakha\\appdata\\local\\programs\\python\\python313\\lib\\site-packages (from scipy) (2.3.2)\n"
     ]
    },
    {
     "name": "stderr",
     "output_type": "stream",
     "text": [
      "\n",
      "[notice] A new release of pip is available: 25.1.1 -> 25.2\n",
      "[notice] To update, run: C:\\Users\\lakha\\AppData\\Local\\Programs\\Python\\Python313\\python.exe -m pip install --upgrade pip\n"
     ]
    }
   ],
   "source": [
    "    !pip install scipy"
   ]
  },
  {
   "cell_type": "code",
   "execution_count": null,
   "id": "250df18d-c3b4-4831-ad68-61b50b876fae",
   "metadata": {},
   "outputs": [],
   "source": [
    "import numpy as np\n",
    "from scipy import stats\n",
    "\n",
    "\n"
   ]
  },
  {
   "cell_type": "code",
   "execution_count": null,
   "id": "c189493d-3590-4a0e-9adf-75165ac942f5",
   "metadata": {},
   "outputs": [],
   "source": [
    "daily_sales = [220, 245, 210, 265, 230, 250, 260, 275, 240, 255,\n",
    "               235, 260, 245, 250, 225, 270, 265, 255, 250, 260]\n",
    "\n"
   ]
  },
  {
   "cell_type": "code",
   "execution_count": null,
   "id": "ccefbd2a-85ed-42c9-b18f-13b5f236d190",
   "metadata": {},
   "outputs": [],
   "source": [
    "\n",
    "sales_array = np.array(daily_sales)\n",
    "\n",
    "# Calculate mean\n",
    "mean_sales = np.mean(sales_array)\n",
    "\n",
    "# Calculate standard error\n",
    "sem = stats.sem(sales_array)\n",
    "\n",
    "# Compute 95% confidence interval\n",
    "confidence = 0.95\n",
    "ci = stats.t.interval(confidence, len(sales_array)-1, loc=mean_sales, scale=sem)\n",
    "\n",
    "# Output results\n",
    "print(f\"Mean Sales: {mean_sales:.2f}\")\n",
    "print(f\"95% Confidence Interval: ({ci[0]:.2f}, {ci[1]:.2f})\")"
   ]
  },
  {
   "cell_type": "code",
   "execution_count": null,
   "id": "006e6c18-67bc-45dd-bb13-47360caa4a13",
   "metadata": {},
   "outputs": [],
   "source": []
  }
 ],
 "metadata": {
  "kernelspec": {
   "display_name": "Python 3 (ipykernel)",
   "language": "python",
   "name": "python3"
  },
  "language_info": {
   "codemirror_mode": {
    "name": "ipython",
    "version": 3
   },
   "file_extension": ".py",
   "mimetype": "text/x-python",
   "name": "python",
   "nbconvert_exporter": "python",
   "pygments_lexer": "ipython3",
   "version": "3.13.5"
  }
 },
 "nbformat": 4,
 "nbformat_minor": 5
}
